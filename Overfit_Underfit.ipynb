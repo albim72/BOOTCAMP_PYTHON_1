{
  "nbformat": 4,
  "nbformat_minor": 0,
  "metadata": {
    "colab": {
      "provenance": [],
      "collapsed_sections": [],
      "authorship_tag": "ABX9TyNkVDEM2/b6ssHKQ/VOcT32",
      "include_colab_link": true
    },
    "kernelspec": {
      "name": "python3",
      "display_name": "Python 3"
    },
    "language_info": {
      "name": "python"
    }
  },
  "cells": [
    {
      "cell_type": "markdown",
      "metadata": {
        "id": "view-in-github",
        "colab_type": "text"
      },
      "source": [
        "<a href=\"https://colab.research.google.com/github/albim72/BOOTCAMP_PYTHON_1/blob/main/Overfit_Underfit.ipynb\" target=\"_parent\"><img src=\"https://colab.research.google.com/assets/colab-badge.svg\" alt=\"Open In Colab\"/></a>"
      ]
    },
    {
      "cell_type": "code",
      "execution_count": 30,
      "metadata": {
        "id": "cQRfxNpbbzd2"
      },
      "outputs": [],
      "source": [
        "import tensorflow as tf\n",
        "from tensorflow.keras import layers\n",
        "from tensorflow.keras import regularizers"
      ]
    },
    {
      "cell_type": "code",
      "source": [
        "!pip install git+https://github.com/tensorflow/docs\n",
        "\n",
        "import tensorflow_docs as tfdocs\n",
        "import tensorflow_docs.modeling\n",
        "import tensorflow_docs.plots\n"
      ],
      "metadata": {
        "colab": {
          "base_uri": "https://localhost:8080/"
        },
        "id": "xmzFOEeZcQTJ",
        "outputId": "9dc325a7-1885-4456-c2ea-3b9e42fea1dc"
      },
      "execution_count": 31,
      "outputs": [
        {
          "output_type": "stream",
          "name": "stdout",
          "text": [
            "Looking in indexes: https://pypi.org/simple, https://us-python.pkg.dev/colab-wheels/public/simple/\n",
            "Collecting git+https://github.com/tensorflow/docs\n",
            "  Cloning https://github.com/tensorflow/docs to /tmp/pip-req-build-ueem58cy\n",
            "  Running command git clone -q https://github.com/tensorflow/docs /tmp/pip-req-build-ueem58cy\n",
            "Requirement already satisfied: astor in /usr/local/lib/python3.7/dist-packages (from tensorflow-docs==0.0.0.dev0) (0.8.1)\n",
            "Requirement already satisfied: absl-py in /usr/local/lib/python3.7/dist-packages (from tensorflow-docs==0.0.0.dev0) (1.2.0)\n",
            "Requirement already satisfied: jinja2 in /usr/local/lib/python3.7/dist-packages (from tensorflow-docs==0.0.0.dev0) (2.11.3)\n",
            "Requirement already satisfied: nbformat in /usr/local/lib/python3.7/dist-packages (from tensorflow-docs==0.0.0.dev0) (5.4.0)\n",
            "Requirement already satisfied: protobuf<3.20,>=3.12.0 in /usr/local/lib/python3.7/dist-packages (from tensorflow-docs==0.0.0.dev0) (3.17.3)\n",
            "Requirement already satisfied: pyyaml in /usr/local/lib/python3.7/dist-packages (from tensorflow-docs==0.0.0.dev0) (6.0)\n",
            "Requirement already satisfied: six>=1.9 in /usr/local/lib/python3.7/dist-packages (from protobuf<3.20,>=3.12.0->tensorflow-docs==0.0.0.dev0) (1.15.0)\n",
            "Requirement already satisfied: MarkupSafe>=0.23 in /usr/local/lib/python3.7/dist-packages (from jinja2->tensorflow-docs==0.0.0.dev0) (2.0.1)\n",
            "Requirement already satisfied: fastjsonschema in /usr/local/lib/python3.7/dist-packages (from nbformat->tensorflow-docs==0.0.0.dev0) (2.16.1)\n",
            "Requirement already satisfied: traitlets>=5.1 in /usr/local/lib/python3.7/dist-packages (from nbformat->tensorflow-docs==0.0.0.dev0) (5.1.1)\n",
            "Requirement already satisfied: jsonschema>=2.6 in /usr/local/lib/python3.7/dist-packages (from nbformat->tensorflow-docs==0.0.0.dev0) (4.3.3)\n",
            "Requirement already satisfied: jupyter-core in /usr/local/lib/python3.7/dist-packages (from nbformat->tensorflow-docs==0.0.0.dev0) (4.11.1)\n",
            "Requirement already satisfied: pyrsistent!=0.17.0,!=0.17.1,!=0.17.2,>=0.14.0 in /usr/local/lib/python3.7/dist-packages (from jsonschema>=2.6->nbformat->tensorflow-docs==0.0.0.dev0) (0.18.1)\n",
            "Requirement already satisfied: typing-extensions in /usr/local/lib/python3.7/dist-packages (from jsonschema>=2.6->nbformat->tensorflow-docs==0.0.0.dev0) (4.1.1)\n",
            "Requirement already satisfied: attrs>=17.4.0 in /usr/local/lib/python3.7/dist-packages (from jsonschema>=2.6->nbformat->tensorflow-docs==0.0.0.dev0) (22.1.0)\n",
            "Requirement already satisfied: importlib-resources>=1.4.0 in /usr/local/lib/python3.7/dist-packages (from jsonschema>=2.6->nbformat->tensorflow-docs==0.0.0.dev0) (5.9.0)\n",
            "Requirement already satisfied: importlib-metadata in /usr/local/lib/python3.7/dist-packages (from jsonschema>=2.6->nbformat->tensorflow-docs==0.0.0.dev0) (4.12.0)\n",
            "Requirement already satisfied: zipp>=3.1.0 in /usr/local/lib/python3.7/dist-packages (from importlib-resources>=1.4.0->jsonschema>=2.6->nbformat->tensorflow-docs==0.0.0.dev0) (3.8.1)\n"
          ]
        }
      ]
    },
    {
      "cell_type": "code",
      "source": [
        "from IPython import display\n",
        "from matplotlib import pyplot as plt\n",
        "import numpy as np\n",
        "import pathlib\n",
        "import shutil\n",
        "import tempfile"
      ],
      "metadata": {
        "id": "DGK2z5Qic_QS"
      },
      "execution_count": 32,
      "outputs": []
    },
    {
      "cell_type": "code",
      "source": [
        "logdir = pathlib.Path(tempfile.mkdtemp())/\"tensorflow_logs\"\n",
        "shutil.rmtree(logdir, ignore_errors=True)"
      ],
      "metadata": {
        "id": "iD-gM-ofded7"
      },
      "execution_count": 33,
      "outputs": []
    },
    {
      "cell_type": "markdown",
      "source": [
        "zbiór Higgsa -> 11000000 elementów (każdy 28 cech) + binarna etykieta danych"
      ],
      "metadata": {
        "id": "f2EEqmOUeFll"
      }
    },
    {
      "cell_type": "code",
      "source": [
        "gz = tf.keras.utils.get_file('HIGGS.csv.gz','http://mlphysics.ics.uci.edu/data/higgs/HIGGS.csv.gz')"
      ],
      "metadata": {
        "id": "bBp5GX0meSQ7"
      },
      "execution_count": 34,
      "outputs": []
    },
    {
      "cell_type": "code",
      "source": [
        "FEATURES = 28"
      ],
      "metadata": {
        "id": "JDFV2JaUe_eS"
      },
      "execution_count": 35,
      "outputs": []
    },
    {
      "cell_type": "code",
      "source": [
        "ds = tf.data.experimental.CsvDataset(gz,[float(),]*(FEATURES+1),compression_type=\"GZIP\")"
      ],
      "metadata": {
        "id": "Y7DsB2ekfF1m"
      },
      "execution_count": 36,
      "outputs": []
    },
    {
      "cell_type": "code",
      "source": [
        "#powyższa funkcja zwraca listę skalarów dla każdego rekrodu. Jak przepakować tę listę do pary (wektor_funkcji,etykieta)???\n",
        "def pack_row(*row):\n",
        "  label = row[0]\n",
        "  features = tf.stack(row[1:],1)\n",
        "  return features,label"
      ],
      "metadata": {
        "id": "sRYRldgmfjAi"
      },
      "execution_count": 37,
      "outputs": []
    },
    {
      "cell_type": "code",
      "source": [
        "packed_ds = ds.batch(10000).map(pack_row).unbatch()"
      ],
      "metadata": {
        "id": "vm_B3IodgFEI"
      },
      "execution_count": 38,
      "outputs": []
    },
    {
      "cell_type": "code",
      "source": [
        "for features,label in packed_ds.batch(1000).take(1):\n",
        "  print(features[0])\n",
        "  plt.hist(features.numpy().flatten(), bins=101)"
      ],
      "metadata": {
        "colab": {
          "base_uri": "https://localhost:8080/",
          "height": 369
        },
        "id": "AqUx_U43ggCo",
        "outputId": "91ccb20b-bc71-4c71-8be9-8daf167a96f0"
      },
      "execution_count": 39,
      "outputs": [
        {
          "output_type": "stream",
          "name": "stdout",
          "text": [
            "tf.Tensor(\n",
            "[ 0.8692932  -0.6350818   0.22569026  0.32747006 -0.6899932   0.75420225\n",
            " -0.24857314 -1.0920639   0.          1.3749921  -0.6536742   0.9303491\n",
            "  1.1074361   1.1389043  -1.5781983  -1.0469854   0.          0.65792954\n",
            " -0.01045457 -0.04576717  3.1019614   1.35376     0.9795631   0.97807616\n",
            "  0.92000484  0.72165745  0.98875093  0.87667835], shape=(28,), dtype=float32)\n"
          ]
        },
        {
          "output_type": "display_data",
          "data": {
            "text/plain": [
              "<Figure size 432x288 with 1 Axes>"
            ],
            "image/png": "[encoded data removed]"
          },
          "metadata": {
            "needs_background": "light"
          }
        }
      ]
    },
    {
      "cell_type": "code",
      "source": [
        "N_VALIDATION = int(1e3)\n",
        "N_TRAIN = int(1e4)\n",
        "BUFFER_SIZE = int(1e4)\n",
        "BATCH_SIZE = 500\n",
        "STEPS_PER_EPOCH = N_TRAIN/BATCH_SIZE"
      ],
      "metadata": {
        "id": "_JlooLyXhbaL"
      },
      "execution_count": 40,
      "outputs": []
    },
    {
      "cell_type": "code",
      "source": [
        "validate_ds = packed_ds.take(N_VALIDATION).cache()\n",
        "train_ds = packed_ds.skip(N_VALIDATION).take(N_TRAIN).cache()"
      ],
      "metadata": {
        "id": "RfjEGda0iGIv"
      },
      "execution_count": 41,
      "outputs": []
    },
    {
      "cell_type": "code",
      "source": [
        "train_ds"
      ],
      "metadata": {
        "colab": {
          "base_uri": "https://localhost:8080/"
        },
        "id": "VC8SSCSTil7Z",
        "outputId": "e5ea0f9f-c30e-4aad-cf37-0b42e346b649"
      },
      "execution_count": 42,
      "outputs": [
        {
          "output_type": "execute_result",
          "data": {
            "text/plain": [
              "<CacheDataset element_spec=(TensorSpec(shape=(28,), dtype=tf.float32, name=None), TensorSpec(shape=(), dtype=tf.float32, name=None))>"
            ]
          },
          "metadata": {},
          "execution_count": 42
        }
      ]
    },
    {
      "cell_type": "code",
      "source": [
        "validate_ds = validate_ds.batch(BATCH_SIZE)\n",
        "train_ds = train_ds.shuffle(BUFFER_SIZE).repeat().batch(BATCH_SIZE)"
      ],
      "metadata": {
        "id": "S3ulbmpZi2Sl"
      },
      "execution_count": 43,
      "outputs": []
    },
    {
      "cell_type": "markdown",
      "source": [
        "DEMONSTRACJA NADMIERNEGO DOPASOWANIA"
      ],
      "metadata": {
        "id": "T3uI7ej3jYSh"
      }
    },
    {
      "cell_type": "code",
      "source": [
        "#Procedura szkolenia\n",
        "lr_schedule = tf.keras.optimizers.schedules.InverseTimeDecay(\n",
        "    0.001,\n",
        "    decay_steps = STEPS_PER_EPOCH*1000,\n",
        "    decay_rate = 1,\n",
        "    staircase=False\n",
        ")\n",
        "\n",
        "def get_optimizer():\n",
        "  return tf.keras.optimizers.Adam(lr_schedule)"
      ],
      "metadata": {
        "id": "xlnjKKAnjeT8"
      },
      "execution_count": 44,
      "outputs": []
    },
    {
      "cell_type": "code",
      "source": [
        "step  = np.linspace(0,100000)\n",
        "lr = lr_schedule(step)\n",
        "plt.figure(figsize=(8,6))\n",
        "plt.plot(step/STEPS_PER_EPOCH, lr)\n",
        "plt.ylim([0,max(plt.ylim())])\n",
        "plt.xlabel('Epoka')\n",
        "_ = plt.ylabel(\"Learning Rate\")"
      ],
      "metadata": {
        "colab": {
          "base_uri": "https://localhost:8080/",
          "height": 388
        },
        "id": "m92xXbUnlHrc",
        "outputId": "c46fdbd0-96b3-470f-b848-bdee4ecec8d1"
      },
      "execution_count": 45,
      "outputs": [
        {
          "output_type": "display_data",
          "data": {
            "text/plain": [
              "<Figure size 576x432 with 1 Axes>"
            ],
            "image/png": "[encoded data removed]"
          },
          "metadata": {
            "needs_background": "light"
          }
        }
      ]
    },
    {
      "cell_type": "code",
      "source": [
        "def get_callbacks(name):\n",
        "  return [\n",
        "      tfdocs.modeling.EpochDots(),\n",
        "      tf.keras.callbacks.EarlyStopping(monitor='val_binary_crossentropy', patience=200),\n",
        "      tf.keras.callbacks.TensorBoard(logdir/name)\n",
        "  ]"
      ],
      "metadata": {
        "id": "0OoOBqhEmZzp"
      },
      "execution_count": 46,
      "outputs": []
    },
    {
      "cell_type": "code",
      "source": [
        "from tensorflow.python.training.saver import metrics\n",
        "def compile_and_fit(model,name,optimizer=None, max_epochs = 10000):\n",
        "  if optimizer is None:\n",
        "    optimizer = get_optimizer()\n",
        "  model.compile(optimizer = optimizer,\n",
        "                loss = tf.keras.losses.BinaryCrossentropy(from_logits=True),\n",
        "                metrics=[\n",
        "                    tf.keras.losses.BinaryCrossentropy(from_logits=True, name='binary_crossentropy'),\n",
        "                    'accuracy'\n",
        "                ])\n",
        "  \n",
        "  model.summary()\n",
        "\n",
        "  history = model.fit(\n",
        "      train_ds,\n",
        "      steps_per_epoch = STEPS_PER_EPOCH,\n",
        "      epochs = max_epochs,\n",
        "      validation_data = validate_ds,\n",
        "      callbacks = get_callbacks(name),\n",
        "      verbose = 0\n",
        "  )\n",
        "  return history\n",
        "\n",
        "\n",
        "            "
      ],
      "metadata": {
        "id": "fE5kLI5inh8m"
      },
      "execution_count": 47,
      "outputs": []
    },
    {
      "cell_type": "markdown",
      "source": [
        "MAŁY MODEL"
      ],
      "metadata": {
        "id": "PM4jW808pxwS"
      }
    },
    {
      "cell_type": "code",
      "source": [
        "tiny_model = tf.keras.Sequential([\n",
        "    layers.Dense(16,activation='elu', input_shape = (FEATURES,)),\n",
        "    layers.Dense(1)\n",
        "])"
      ],
      "metadata": {
        "id": "54kq6_7wpzKm"
      },
      "execution_count": 48,
      "outputs": []
    },
    {
      "cell_type": "code",
      "source": [
        "size_histories = {}"
      ],
      "metadata": {
        "id": "dxj8jgyeqN4X"
      },
      "execution_count": 49,
      "outputs": []
    },
    {
      "cell_type": "code",
      "source": [
        "size_histories['Tiny'] = compile_and_fit(tiny_model,'sizes/Tiny')"
      ],
      "metadata": {
        "colab": {
          "base_uri": "https://localhost:8080/"
        },
        "id": "yc7dAAxsqXVQ",
        "outputId": "8280592d-1cc3-4ff9-f93a-ac4a8fd27eb4"
      },
      "execution_count": 50,
      "outputs": [
        {
          "output_type": "stream",
          "name": "stdout",
          "text": [
            "Model: \"sequential_1\"\n",
            "_________________________________________________________________\n",
            " Layer (type)                Output Shape              Param #   \n",
            "=================================================================\n",
            " dense_2 (Dense)             (None, 16)                464       \n",
            "                                                                 \n",
            " dense_3 (Dense)             (None, 1)                 17        \n",
            "                                                                 \n",
            "=================================================================\n",
            "Total params: 481\n",
            "Trainable params: 481\n",
            "Non-trainable params: 0\n",
            "_________________________________________________________________\n",
            "\n",
            "Epoch: 0, accuracy:0.5040,  binary_crossentropy:0.7461,  loss:0.7461,  val_accuracy:0.4980,  val_binary_crossentropy:0.7240,  val_loss:0.7240,  \n",
            "....................................................................................................\n",
            "Epoch: 100, accuracy:0.6023,  binary_crossentropy:0.6231,  loss:0.6231,  val_accuracy:0.5990,  val_binary_crossentropy:0.6264,  val_loss:0.6264,  \n",
            "....................................................................................................\n",
            "Epoch: 200, accuracy:0.6226,  binary_crossentropy:0.6114,  loss:0.6114,  val_accuracy:0.6120,  val_binary_crossentropy:0.6166,  val_loss:0.6166,  \n",
            "....................................................................................................\n",
            "Epoch: 300, accuracy:0.6381,  binary_crossentropy:0.6037,  loss:0.6037,  val_accuracy:0.6210,  val_binary_crossentropy:0.6099,  val_loss:0.6099,  \n",
            "....................................................................................................\n",
            "Epoch: 400, accuracy:0.6497,  binary_crossentropy:0.5958,  loss:0.5958,  val_accuracy:0.6280,  val_binary_crossentropy:0.6016,  val_loss:0.6016,  \n",
            "....................................................................................................\n",
            "Epoch: 500, accuracy:0.6626,  binary_crossentropy:0.5898,  loss:0.5898,  val_accuracy:0.6280,  val_binary_crossentropy:0.5984,  val_loss:0.5984,  \n",
            "....................................................................................................\n",
            "Epoch: 600, accuracy:0.6654,  binary_crossentropy:0.5856,  loss:0.5856,  val_accuracy:0.6300,  val_binary_crossentropy:0.5948,  val_loss:0.5948,  \n",
            "....................................................................................................\n",
            "Epoch: 700, accuracy:0.6703,  binary_crossentropy:0.5823,  loss:0.5823,  val_accuracy:0.6430,  val_binary_crossentropy:0.5924,  val_loss:0.5924,  \n",
            "....................................................................................................\n",
            "Epoch: 800, accuracy:0.6737,  binary_crossentropy:0.5809,  loss:0.5809,  val_accuracy:0.6290,  val_binary_crossentropy:0.5930,  val_loss:0.5930,  \n",
            "....................................................................................................\n",
            "Epoch: 900, accuracy:0.6758,  binary_crossentropy:0.5783,  loss:0.5783,  val_accuracy:0.6550,  val_binary_crossentropy:0.5896,  val_loss:0.5896,  \n",
            "....................................................................................................\n",
            "Epoch: 1000, accuracy:0.6730,  binary_crossentropy:0.5767,  loss:0.5767,  val_accuracy:0.6570,  val_binary_crossentropy:0.5896,  val_loss:0.5896,  \n",
            "....................................................................................................\n",
            "Epoch: 1100, accuracy:0.6771,  binary_crossentropy:0.5749,  loss:0.5749,  val_accuracy:0.6520,  val_binary_crossentropy:0.5897,  val_loss:0.5897,  \n",
            "....................................................................................................\n",
            "Epoch: 1200, accuracy:0.6769,  binary_crossentropy:0.5741,  loss:0.5741,  val_accuracy:0.6610,  val_binary_crossentropy:0.5887,  val_loss:0.5887,  \n",
            "....................................................................................................\n",
            "Epoch: 1300, accuracy:0.6774,  binary_crossentropy:0.5729,  loss:0.5729,  val_accuracy:0.6700,  val_binary_crossentropy:0.5882,  val_loss:0.5882,  \n",
            "....................................................................................................\n",
            "Epoch: 1400, accuracy:0.6799,  binary_crossentropy:0.5719,  loss:0.5719,  val_accuracy:0.6730,  val_binary_crossentropy:0.5884,  val_loss:0.5884,  \n",
            "....................................................................................................\n",
            "Epoch: 1500, accuracy:0.6840,  binary_crossentropy:0.5710,  loss:0.5710,  val_accuracy:0.6430,  val_binary_crossentropy:0.5915,  val_loss:0.5915,  \n",
            "....................................................................................................\n",
            "Epoch: 1600, accuracy:0.6849,  binary_crossentropy:0.5704,  loss:0.5704,  val_accuracy:0.6530,  val_binary_crossentropy:0.5903,  val_loss:0.5903,  \n",
            "....................................................................................................\n",
            "Epoch: 1700, accuracy:0.6850,  binary_crossentropy:0.5694,  loss:0.5694,  val_accuracy:0.6640,  val_binary_crossentropy:0.5886,  val_loss:0.5886,  \n",
            "....................................................................................................\n",
            "Epoch: 1800, accuracy:0.6858,  binary_crossentropy:0.5688,  loss:0.5688,  val_accuracy:0.6750,  val_binary_crossentropy:0.5883,  val_loss:0.5883,  \n",
            "....................................................................................................\n",
            "Epoch: 1900, accuracy:0.6917,  binary_crossentropy:0.5680,  loss:0.5680,  val_accuracy:0.6520,  val_binary_crossentropy:0.5907,  val_loss:0.5907,  \n",
            "....................................................................................................\n",
            "Epoch: 2000, accuracy:0.6879,  binary_crossentropy:0.5674,  loss:0.5674,  val_accuracy:0.6580,  val_binary_crossentropy:0.5894,  val_loss:0.5894,  \n",
            "..........................................."
          ]
        }
      ]
    },
    {
      "cell_type": "code",
      "source": [
        "plotter = tfdocs.plots.HistoryPlotter(metric = 'binary_crossentropy', smoothing_std=10)\n",
        "plotter.plot(size_histories)\n",
        "plt.ylim([0.5,0.7])"
      ],
      "metadata": {
        "colab": {
          "base_uri": "https://localhost:8080/",
          "height": 300
        },
        "id": "-zH2nwF5rRLl",
        "outputId": "2b8ce9af-33fe-4d02-cb85-8ded3335a37d"
      },
      "execution_count": 51,
      "outputs": [
        {
          "output_type": "execute_result",
          "data": {
            "text/plain": [
              "(0.5, 0.7)"
            ]
          },
          "metadata": {},
          "execution_count": 51
        },
        {
          "output_type": "display_data",
          "data": {
            "text/plain": [
              "<Figure size 432x288 with 1 Axes>"
            ],
            "image/png": "[encoded data removed]"
          },
          "metadata": {
            "needs_background": "light"
          }
        }
      ]
    },
    {
      "cell_type": "code",
      "source": [
        "small_model = tf.keras.Sequential([\n",
        "    layers.Dense(16,activation='elu', input_shape=(FEATURES,)),\n",
        "    layers.Dense(16,activation='elu'),\n",
        "    layers.Dense(1)\n",
        "])\n",
        "\n",
        "size_histories['Small']=compile_and_fit(small_model,'sizes/Small')"
      ],
      "metadata": {
        "colab": {
          "base_uri": "https://localhost:8080/"
        },
        "id": "GSj6qKcfz1hq",
        "outputId": "66727d9f-87f4-4b5e-e3e5-3726de3a1e17"
      },
      "execution_count": 54,
      "outputs": [
        {
          "output_type": "stream",
          "name": "stdout",
          "text": [
            "Model: \"sequential_4\"\n",
            "_________________________________________________________________\n",
            " Layer (type)                Output Shape              Param #   \n",
            "=================================================================\n",
            " dense_10 (Dense)            (None, 16)                464       \n",
            "                                                                 \n",
            " dense_11 (Dense)            (None, 16)                272       \n",
            "                                                                 \n",
            " dense_12 (Dense)            (None, 1)                 17        \n",
            "                                                                 \n",
            "=================================================================\n",
            "Total params: 753\n",
            "Trainable params: 753\n",
            "Non-trainable params: 0\n",
            "_________________________________________________________________\n",
            "\n",
            "Epoch: 0, accuracy:0.4825,  binary_crossentropy:0.7027,  loss:0.7027,  val_accuracy:0.4760,  val_binary_crossentropy:0.6996,  val_loss:0.6996,  \n",
            "....................................................................................................\n",
            "Epoch: 100, accuracy:0.6435,  binary_crossentropy:0.6002,  loss:0.6002,  val_accuracy:0.6230,  val_binary_crossentropy:0.5992,  val_loss:0.5992,  \n",
            "....................................................................................................\n",
            "Epoch: 200, accuracy:0.6720,  binary_crossentropy:0.5834,  loss:0.5834,  val_accuracy:0.6600,  val_binary_crossentropy:0.5855,  val_loss:0.5855,  \n",
            "....................................................................................................\n",
            "Epoch: 300, accuracy:0.6779,  binary_crossentropy:0.5742,  loss:0.5742,  val_accuracy:0.6600,  val_binary_crossentropy:0.5814,  val_loss:0.5814,  \n",
            "....................................................................................................\n",
            "Epoch: 400, accuracy:0.6878,  binary_crossentropy:0.5671,  loss:0.5671,  val_accuracy:0.6670,  val_binary_crossentropy:0.5775,  val_loss:0.5775,  \n",
            "....................................................................................................\n",
            "Epoch: 500, accuracy:0.6880,  binary_crossentropy:0.5619,  loss:0.5619,  val_accuracy:0.6780,  val_binary_crossentropy:0.5756,  val_loss:0.5756,  \n",
            "....................................................................................................\n",
            "Epoch: 600, accuracy:0.6924,  binary_crossentropy:0.5582,  loss:0.5582,  val_accuracy:0.6870,  val_binary_crossentropy:0.5759,  val_loss:0.5759,  \n",
            "....................................................................................................\n",
            "Epoch: 700, accuracy:0.6980,  binary_crossentropy:0.5552,  loss:0.5552,  val_accuracy:0.6650,  val_binary_crossentropy:0.5790,  val_loss:0.5790,  \n",
            "........................................................................................."
          ]
        }
      ]
    },
    {
      "cell_type": "code",
      "source": [
        "medium_model = tf.keras.Sequential([\n",
        "    layers.Dense(64,activation='elu', input_shape=(FEATURES,)),\n",
        "    layers.Dense(64,activation='elu'),\n",
        "    layers.Dense(64,activation='elu'),\n",
        "    layers.Dense(1)\n",
        "])\n",
        "\n",
        "size_histories['Medium']=compile_and_fit(medium_model,'sizes/Medium')"
      ],
      "metadata": {
        "colab": {
          "base_uri": "https://localhost:8080/"
        },
        "id": "hl6qWn9m0ycs",
        "outputId": "4c3c38db-595f-43db-99c9-57070051b7eb"
      },
      "execution_count": 55,
      "outputs": [
        {
          "output_type": "stream",
          "name": "stdout",
          "text": [
            "Model: \"sequential_5\"\n",
            "_________________________________________________________________\n",
            " Layer (type)                Output Shape              Param #   \n",
            "=================================================================\n",
            " dense_13 (Dense)            (None, 64)                1856      \n",
            "                                                                 \n",
            " dense_14 (Dense)            (None, 64)                4160      \n",
            "                                                                 \n",
            " dense_15 (Dense)            (None, 64)                4160      \n",
            "                                                                 \n",
            " dense_16 (Dense)            (None, 1)                 65        \n",
            "                                                                 \n",
            "=================================================================\n",
            "Total params: 10,241\n",
            "Trainable params: 10,241\n",
            "Non-trainable params: 0\n",
            "_________________________________________________________________\n",
            "\n",
            "Epoch: 0, accuracy:0.4991,  binary_crossentropy:0.6841,  loss:0.6841,  val_accuracy:0.5260,  val_binary_crossentropy:0.6657,  val_loss:0.6657,  \n",
            "....................................................................................................\n",
            "Epoch: 100, accuracy:0.7206,  binary_crossentropy:0.5278,  loss:0.5278,  val_accuracy:0.6690,  val_binary_crossentropy:0.6125,  val_loss:0.6125,  \n",
            "....................................................................................................\n",
            "Epoch: 200, accuracy:0.7791,  binary_crossentropy:0.4335,  loss:0.4335,  val_accuracy:0.6660,  val_binary_crossentropy:0.6840,  val_loss:0.6840,  \n",
            "..............................................."
          ]
        }
      ]
    },
    {
      "cell_type": "code",
      "source": [
        "large_model = tf.keras.Sequential([\n",
        "    layers.Dense(512,activation='elu', input_shape=(FEATURES,)),\n",
        "    layers.Dense(512,activation='elu'),\n",
        "    layers.Dense(512,activation='elu'),\n",
        "    layers.Dense(512,activation='elu'),\n",
        "    layers.Dense(1)\n",
        "])\n",
        "\n",
        "size_histories['large']=compile_and_fit(large_model,'sizes/large')"
      ],
      "metadata": {
        "colab": {
          "base_uri": "https://localhost:8080/"
        },
        "id": "K8yG_aq11hgY",
        "outputId": "229c2468-fe1a-49ff-af3c-6dacbf0555a1"
      },
      "execution_count": 56,
      "outputs": [
        {
          "output_type": "stream",
          "name": "stdout",
          "text": [
            "Model: \"sequential_6\"\n",
            "_________________________________________________________________\n",
            " Layer (type)                Output Shape              Param #   \n",
            "=================================================================\n",
            " dense_17 (Dense)            (None, 512)               14848     \n",
            "                                                                 \n",
            " dense_18 (Dense)            (None, 512)               262656    \n",
            "                                                                 \n",
            " dense_19 (Dense)            (None, 512)               262656    \n",
            "                                                                 \n",
            " dense_20 (Dense)            (None, 512)               262656    \n",
            "                                                                 \n",
            " dense_21 (Dense)            (None, 1)                 513       \n",
            "                                                                 \n",
            "=================================================================\n",
            "Total params: 803,329\n",
            "Trainable params: 803,329\n",
            "Non-trainable params: 0\n",
            "_________________________________________________________________\n",
            "\n",
            "Epoch: 0, accuracy:0.4959,  binary_crossentropy:0.7763,  loss:0.7763,  val_accuracy:0.5430,  val_binary_crossentropy:0.6715,  val_loss:0.6715,  \n",
            "....................................................................................................\n",
            "Epoch: 100, accuracy:1.0000,  binary_crossentropy:0.0021,  loss:0.0021,  val_accuracy:0.6720,  val_binary_crossentropy:1.7709,  val_loss:1.7709,  \n",
            "....................................................................................................\n",
            "Epoch: 200, accuracy:1.0000,  binary_crossentropy:0.0001,  loss:0.0001,  val_accuracy:0.6720,  val_binary_crossentropy:2.3800,  val_loss:2.3800,  \n",
            "....................."
          ]
        }
      ]
    },
    {
      "cell_type": "code",
      "source": [
        "plotter.plot(size_histories)\n",
        "a = plt.xscale('log')\n",
        "plt.xlim([5,max(plt.xlim())])\n",
        "plt.ylim([0.5,0.7])\n",
        "plt.xlabel(\"Epoki [skala log]\")"
      ],
      "metadata": {
        "colab": {
          "base_uri": "https://localhost:8080/",
          "height": 304
        },
        "id": "gBwRHYmv2Vax",
        "outputId": "3ea2d471-481d-4daa-ea53-39bc346a4253"
      },
      "execution_count": 57,
      "outputs": [
        {
          "output_type": "execute_result",
          "data": {
            "text/plain": [
              "Text(0.5, 0, 'Epoki [skala log]')"
            ]
          },
          "metadata": {},
          "execution_count": 57
        },
        {
          "output_type": "display_data",
          "data": {
            "text/plain": [
              "<Figure size 432x288 with 1 Axes>"
            ],
            "image/png": "[encoded data removed]"
          },
          "metadata": {
            "needs_background": "light"
          }
        }
      ]
    },
    {
      "cell_type": "code",
      "source": [
        "#kopiowanie dzienników - > logów\n",
        "shutil.rmtree(logdir/'regularies/Tiny', ignore_errors=True)\n",
        "shutil.copytree(logdir/'sizes/Tiny',logdir/'regularies/Tiny')"
      ],
      "metadata": {
        "colab": {
          "base_uri": "https://localhost:8080/"
        },
        "id": "2sOkn80O4PPv",
        "outputId": "adbe8af8-3e80-44ab-deae-6945cc448927"
      },
      "execution_count": 59,
      "outputs": [
        {
          "output_type": "execute_result",
          "data": {
            "text/plain": [
              "PosixPath('/tmp/tmph1_f34xs/tensorflow_logs/regularies/Tiny')"
            ]
          },
          "metadata": {},
          "execution_count": 59
        }
      ]
    },
    {
      "cell_type": "code",
      "source": [
        "regularizer_histories = {}\n",
        "regularizer_histories['Tiny'] = size_histories['Tiny']"
      ],
      "metadata": {
        "id": "Y0KXBFXy42W7"
      },
      "execution_count": 60,
      "outputs": []
    },
    {
      "cell_type": "code",
      "source": [
        "#regularyzacja wagi L2\n",
        "l2_model = tf.keras.Sequential([\n",
        "    \n",
        "])"
      ],
      "metadata": {
        "id": "4o5yLbE_5sWg"
      },
      "execution_count": null,
      "outputs": []
    }
  ]
}